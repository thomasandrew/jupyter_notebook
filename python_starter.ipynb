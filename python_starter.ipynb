{
 "cells": [
  {
   "cell_type": "markdown",
   "id": "18a92de0-16f5-4642-b899-f3064ae683a0",
   "metadata": {},
   "source": [
    "<h1 style=\"font-size:3rem;color:orange;\">Jupyter Notebook Tutorial</h1>"
   ]
  },
  {
   "cell_type": "markdown",
   "id": "72288fa0-4cbc-4335-897a-9d16eb765ec2",
   "metadata": {},
   "source": [
    "# Python for Beginners"
   ]
  },
  {
   "cell_type": "markdown",
   "id": "35e1e696-9d2f-43f0-a4e1-8a911d06e880",
   "metadata": {},
   "source": [
    "<img src=\"https://picsum.photos/id/0/400/400\">"
   ]
  },
  {
   "cell_type": "markdown",
   "id": "a1ea70e0-07e9-4132-8631-4d0884e54d58",
   "metadata": {},
   "source": [
    "## Basic Output"
   ]
  },
  {
   "cell_type": "code",
   "execution_count": 4,
   "id": "69df12e3-8f10-4124-b0be-fc88331a0167",
   "metadata": {},
   "outputs": [
    {
     "name": "stdout",
     "output_type": "stream",
     "text": [
      "Hello World!\n"
     ]
    }
   ],
   "source": [
    "print(\"Hello World!\")"
   ]
  },
  {
   "cell_type": "markdown",
   "id": "339947ae-018f-4e65-866c-18a934347936",
   "metadata": {},
   "source": [
    "## Insert a variable into a string"
   ]
  },
  {
   "cell_type": "code",
   "execution_count": 5,
   "id": "4338c539-402e-4f52-9ea7-c41bd57ff774",
   "metadata": {},
   "outputs": [
    {
     "name": "stdin",
     "output_type": "stream",
     "text": [
      "What's your naame? Thomas\n"
     ]
    },
    {
     "name": "stdout",
     "output_type": "stream",
     "text": [
      "Hello, Thomas!\n"
     ]
    }
   ],
   "source": [
    "person = input(\"What's your name?\")\n",
    "message = \"Hello, {}!\".format(person)\n",
    "print(message)"
   ]
  },
  {
   "cell_type": "markdown",
   "id": "cb072cc1-9e3c-4f1e-8cba-b7691f10adaf",
   "metadata": {},
   "source": [
    "## Multiline Strings and String Length"
   ]
  },
  {
   "cell_type": "code",
   "execution_count": 6,
   "id": "a5c20ca4-145a-4ec5-83e8-89937fa6c3b0",
   "metadata": {},
   "outputs": [
    {
     "name": "stdout",
     "output_type": "stream",
     "text": [
      "Once Upon a Time\n",
      "There live a bear family\n",
      "Who eat delicious pizza\n",
      "65\n"
     ]
    }
   ],
   "source": [
    "story = \"\"\"Once Upon a Time\n",
    "There live a bear family\n",
    "Who eat delicious pizza\"\"\"\n",
    "print(story)\n",
    "print(len(story))"
   ]
  },
  {
   "cell_type": "markdown",
   "id": "2ea042d9-212b-4fa1-90f5-43e63b03d587",
   "metadata": {},
   "source": [
    "## Math Operations"
   ]
  },
  {
   "cell_type": "code",
   "execution_count": 7,
   "id": "bbd81075-b7c6-4ac3-8800-0683835843db",
   "metadata": {},
   "outputs": [
    {
     "name": "stdout",
     "output_type": "stream",
     "text": [
      "5.25\n",
      "1\n"
     ]
    }
   ],
   "source": [
    "x = 7\n",
    "y = 4\n",
    "z = (x * 3) / y\n",
    "m = (x * 3) % y #modulo returns the remainder\n",
    "print(z)\n",
    "print(m)"
   ]
  },
  {
   "cell_type": "markdown",
   "id": "88f75611-f4ae-4f47-9e15-1c13d530989f",
   "metadata": {},
   "source": [
    "## Lists (Arrays)"
   ]
  },
  {
   "cell_type": "code",
   "execution_count": 9,
   "id": "631ce11b-671e-4b30-be60-faf63ad06a1a",
   "metadata": {},
   "outputs": [
    {
     "name": "stdout",
     "output_type": "stream",
     "text": [
      "Rachel\n"
     ]
    }
   ],
   "source": [
    "friends = ['Monica', 'Phoebe', 'Rachel', 'Chandler', 'Joey', 'Ross']\n",
    "print(friends[2])"
   ]
  }
 ],
 "metadata": {
  "kernelspec": {
   "display_name": "Python 3 (ipykernel)",
   "language": "python",
   "name": "python3"
  },
  "language_info": {
   "codemirror_mode": {
    "name": "ipython",
    "version": 3
   },
   "file_extension": ".py",
   "mimetype": "text/x-python",
   "name": "python",
   "nbconvert_exporter": "python",
   "pygments_lexer": "ipython3",
   "version": "3.11.5"
  }
 },
 "nbformat": 4,
 "nbformat_minor": 5
}
